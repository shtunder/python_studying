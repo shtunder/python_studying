{
 "cells": [
  {
   "cell_type": "code",
   "execution_count": 1,
   "metadata": {},
   "outputs": [
    {
     "name": "stdout",
     "output_type": "stream",
     "text": [
      "6\n",
      "Hello\n"
     ]
    }
   ],
   "source": [
    "print(2 + 4)\n",
    "print(\"Hello\")"
   ]
  },
  {
   "cell_type": "code",
   "execution_count": 3,
   "metadata": {},
   "outputs": [
    {
     "name": "stdout",
     "output_type": "stream",
     "text": [
      "Hello World\n"
     ]
    }
   ],
   "source": [
    "#Вывод сообщения на консоль\n",
    "print(\"Hello World\")"
   ]
  },
  {
   "cell_type": "code",
   "execution_count": 8,
   "metadata": {},
   "outputs": [
    {
     "name": "stdout",
     "output_type": "stream",
     "text": [
      "Full name: Tom Smith\n"
     ]
    }
   ],
   "source": [
    "print(\"Full name:\", \"Tom\", \"Smith\")"
   ]
  },
  {
   "cell_type": "code",
   "execution_count": 1,
   "metadata": {},
   "outputs": [
    {
     "name": "stdout",
     "output_type": "stream",
     "text": [
      "Введите имя: Андрей\n",
      "Привет Андрей\n"
     ]
    }
   ],
   "source": [
    "name = input(\"Введите имя: \")\n",
    "print(\"Привет\", name)"
   ]
  },
  {
   "cell_type": "code",
   "execution_count": 3,
   "metadata": {},
   "outputs": [
    {
     "name": "stdout",
     "output_type": "stream",
     "text": [
      "Ключевые слова: and, as, assert, break, class, continue, def, del, elif, else, except, False, finally, for, from, global, if, import, in, is, lambda, None, nonlocal, not, or, pass, raise, return, True, try, while, with, yield\n"
     ]
    }
   ],
   "source": [
    "print(\"Ключевые слова: and, as, assert, break, class, continue, def, del, elif, else, except, False, finally, for, from, global, if, import, in, is, lambda, None, nonlocal, not, or, pass, raise, return, True, try, while, with, yield\")\n"
   ]
  },
  {
   "cell_type": "code",
   "execution_count": 5,
   "metadata": {},
   "outputs": [
    {
     "name": "stdout",
     "output_type": "stream",
     "text": [
      "<class 'str'>\n"
     ]
    }
   ],
   "source": [
    "user_id = \"12tomsmith\"\n",
    "print(type(user_id))"
   ]
  },
  {
   "cell_type": "code",
   "execution_count": 6,
   "metadata": {},
   "outputs": [
    {
     "name": "stdout",
     "output_type": "stream",
     "text": [
      "8\n"
     ]
    }
   ],
   "source": [
    "print(6 + 2)"
   ]
  },
  {
   "cell_type": "code",
   "execution_count": 7,
   "metadata": {},
   "outputs": [
    {
     "name": "stdout",
     "output_type": "stream",
     "text": [
      "4\n"
     ]
    }
   ],
   "source": [
    "print(6 - 2)"
   ]
  },
  {
   "cell_type": "code",
   "execution_count": 9,
   "metadata": {},
   "outputs": [
    {
     "name": "stdout",
     "output_type": "stream",
     "text": [
      "3.0\n"
     ]
    }
   ],
   "source": [
    "print(6 / 2)"
   ]
  },
  {
   "cell_type": "code",
   "execution_count": 10,
   "metadata": {},
   "outputs": [
    {
     "name": "stdout",
     "output_type": "stream",
     "text": [
      "3\n"
     ]
    }
   ],
   "source": [
    "print(7 // 2)"
   ]
  },
  {
   "cell_type": "code",
   "execution_count": 12,
   "metadata": {},
   "outputs": [
    {
     "data": {
      "text/plain": [
       "3"
      ]
     },
     "execution_count": 12,
     "metadata": {},
     "output_type": "execute_result"
    }
   ],
   "source": [
    "7 // 2"
   ]
  },
  {
   "cell_type": "code",
   "execution_count": 14,
   "metadata": {},
   "outputs": [
    {
     "name": "stdout",
     "output_type": "stream",
     "text": [
      "36\n"
     ]
    }
   ],
   "source": [
    "print(6 ** 2)"
   ]
  },
  {
   "cell_type": "code",
   "execution_count": 17,
   "metadata": {},
   "outputs": [
    {
     "name": "stdout",
     "output_type": "stream",
     "text": [
      "1\n"
     ]
    }
   ],
   "source": [
    "print(9 % 2)"
   ]
  },
  {
   "cell_type": "code",
   "execution_count": 4,
   "metadata": {},
   "outputs": [
    {
     "name": "stdout",
     "output_type": "stream",
     "text": [
      "Приоритеты операций: **, *, /, //, %, +, -\n"
     ]
    }
   ],
   "source": [
    "print(\"Приоритеты операций: **, *, /, //, %, +, -\")"
   ]
  },
  {
   "cell_type": "code",
   "execution_count": 6,
   "metadata": {},
   "outputs": [
    {
     "name": "stdout",
     "output_type": "stream",
     "text": [
      "5.535\n"
     ]
    }
   ],
   "source": [
    "print(round(5.5345341, 3))"
   ]
  },
  {
   "cell_type": "code",
   "execution_count": 13,
   "metadata": {},
   "outputs": [
    {
     "name": "stdout",
     "output_type": "stream",
     "text": [
      "4 64 10\n"
     ]
    }
   ],
   "source": [
    "x = 0b0100\n",
    "a = 0o0100\n",
    "y = 0x0a\n",
    "print(x, a, y)"
   ]
  },
  {
   "cell_type": "code",
   "execution_count": 19,
   "metadata": {},
   "outputs": [
    {
     "name": "stdout",
     "output_type": "stream",
     "text": [
      "10 00001010 0012 000a\n"
     ]
    }
   ],
   "source": [
    "print(\"{0} {0:08b} {0:04o} {0:04x}\".format(y))"
   ]
  },
  {
   "cell_type": "code",
   "execution_count": 24,
   "metadata": {},
   "outputs": [
    {
     "name": "stdout",
     "output_type": "stream",
     "text": [
      "True\n"
     ]
    }
   ],
   "source": [
    "age = 23\n",
    "weight = 65\n",
    "result = age > 20 and weight == 65\n",
    "print(result)"
   ]
  },
  {
   "cell_type": "code",
   "execution_count": 28,
   "metadata": {},
   "outputs": [
    {
     "name": "stdout",
     "output_type": "stream",
     "text": [
      "Tom Smith\n",
      "Tom Smith\n"
     ]
    }
   ],
   "source": [
    "name = \"Tom\"\n",
    "surname = 'Smith'\n",
    "print(name, surname)\n",
    "print(name + \" \" + surname)"
   ]
  },
  {
   "cell_type": "code",
   "execution_count": 36,
   "metadata": {},
   "outputs": [
    {
     "name": "stdout",
     "output_type": "stream",
     "text": [
      "Пришло время действовать \n",
      "Согласен?\n"
     ]
    }
   ],
   "source": [
    "print(\"Пришло время действовать \\nСогласен?\")"
   ]
  },
  {
   "cell_type": "code",
   "execution_count": 37,
   "metadata": {},
   "outputs": [
    {
     "name": "stdout",
     "output_type": "stream",
     "text": [
      "name \tsurname\n"
     ]
    }
   ],
   "source": [
    "print(\"name \\tsurname\")"
   ]
  },
  {
   "cell_type": "code",
   "execution_count": 39,
   "metadata": {},
   "outputs": [
    {
     "name": "stdout",
     "output_type": "stream",
     "text": [
      "Cafe \"Central Park\"\n"
     ]
    }
   ],
   "source": [
    "print(\"Cafe \\\"Central Park\\\"\")"
   ]
  },
  {
   "cell_type": "code",
   "execution_count": 42,
   "metadata": {},
   "outputs": [
    {
     "name": "stdout",
     "output_type": "stream",
     "text": [
      "True\n"
     ]
    }
   ],
   "source": [
    "str1 = \"Tom\"\n",
    "str2 = 'tom'\n",
    "print(str1.lower() == str2.lower())"
   ]
  },
  {
   "cell_type": "code",
   "execution_count": 44,
   "metadata": {},
   "outputs": [
    {
     "name": "stdout",
     "output_type": "stream",
     "text": [
      "ANDREY\n"
     ]
    }
   ],
   "source": [
    "str3 = 'andrey'\n",
    "print(str3.upper())"
   ]
  },
  {
   "cell_type": "code",
   "execution_count": null,
   "metadata": {},
   "outputs": [],
   "source": [
    "age = 18\n",
    "if age >= 21:\n",
    "    print(\"Доступ разрешён\")\n",
    "elif age >=18:\n",
    "    print(\"Доступ частично разрешён\")\n",
    "else:\n",
    "    print(\"Вход запрещён\")"
   ]
  },
  {
   "cell_type": "code",
   "execution_count": 9,
   "metadata": {},
   "outputs": [
    {
     "name": "stdout",
     "output_type": "stream",
     "text": [
      "Введите сумму, которую вы хотите обменять: 6000\n",
      "Укажите код валюты (доллары - 400, евро - 401): 400\n",
      "Валюта: доллары США\n",
      "К получению: 100.0\n"
     ]
    }
   ],
   "source": [
    "#Программа обменный пункт\n",
    "\n",
    "usd = 60\n",
    "euro = 70\n",
    "\n",
    "money = int(input(\"Введите сумму, которую вы хотите обменять: \"))\n",
    "currency = int(input(\"Укажите код валюты (доллары - 400, евро - 401): \"))\n",
    "\n",
    "if currency == 400:\n",
    "    cash = round(money / usd, 2)\n",
    "    print(\"Валюта: доллары США\")\n",
    "elif currency == 401:\n",
    "    cash = round(money / euro, 2)\n",
    "    print(\"Валюта: евро\")\n",
    "else:\n",
    "    cash = 0\n",
    "    print(\"Неизвестная валюта\")\n",
    "    \n",
    "print(\"К получению:\", cash)"
   ]
  },
  {
   "cell_type": "code",
   "execution_count": 3,
   "metadata": {},
   "outputs": [
    {
     "name": "stdout",
     "output_type": "stream",
     "text": [
      "Привет\n",
      "Для продолжения нажмите Y, а для выхода любую другую клавишу: y\n",
      "Привет\n",
      "Для продолжения нажмите Y, а для выхода любую другую клавишу: y\n",
      "Привет\n",
      "Для продолжения нажмите Y, а для выхода любую другую клавишу: y\n",
      "Привет\n",
      "Для продолжения нажмите Y, а для выхода любую другую клавишу: y\n",
      "Привет\n",
      "Для продолжения нажмите Y, а для выхода любую другую клавишу: g\n",
      "Работа программы завершена\n"
     ]
    }
   ],
   "source": [
    "choice = \"y\"\n",
    "\n",
    "while choice.lower() == \"y\":\n",
    "    print(\"Привет\")\n",
    "    choice = input(\"Для продолжения нажмите Y, а для выхода любую другую клавишу: \")\n",
    "\n",
    "print(\"Работа программы завершена\")"
   ]
  },
  {
   "cell_type": "code",
   "execution_count": 6,
   "metadata": {},
   "outputs": [
    {
     "name": "stdout",
     "output_type": "stream",
     "text": [
      "Введите число: 2\n",
      "Факториал числа 2 равен 2\n"
     ]
    }
   ],
   "source": [
    "# Программа по вычислению факториала\n",
    "\n",
    "number = int(input(\"Введите число: \"))\n",
    "i = 1\n",
    "factorial = 1\n",
    "while i <= number:\n",
    "    factorial *= i\n",
    "    i += 1\n",
    "print(\"Факториал числа\", number, \"равен\", factorial)"
   ]
  },
  {
   "cell_type": "code",
   "execution_count": 8,
   "metadata": {},
   "outputs": [
    {
     "name": "stdout",
     "output_type": "stream",
     "text": [
      "Введите число: 4\n",
      "Факториал числа 4 равен 24\n"
     ]
    }
   ],
   "source": [
    "# Программа по вычислению факториала\n",
    "\n",
    "number = int(input(\"Введите число: \"))\n",
    "factorial = 1\n",
    "for i in range(1, number + 1):\n",
    "    factorial *= i\n",
    "    \n",
    "print(\"Факториал числа\", number, \"равен\", factorial)"
   ]
  },
  {
   "cell_type": "code",
   "execution_count": 23,
   "metadata": {},
   "outputs": [
    {
     "name": "stdout",
     "output_type": "stream",
     "text": [
      "[0, 1, 2, 3, 4, 5, 6, 7, 8, 9]\n",
      "[10, 11, 12, 13, 14, 15, 16, 17, 18, 19]\n",
      "[10, 12, 14, 16, 18]\n",
      "[20, 19, 18, 17, 16, 15, 14, 13, 12, 11]\n"
     ]
    }
   ],
   "source": [
    "print(list(range(10)))\n",
    "print(list(range(10, 20)))\n",
    "print(list(range(10, 20, 2)))\n",
    "print(list(range(20, 10, -1)))"
   ]
  },
  {
   "cell_type": "code",
   "execution_count": 30,
   "metadata": {},
   "outputs": [
    {
     "name": "stdout",
     "output_type": "stream",
     "text": [
      "0 1 2 3 4 "
     ]
    }
   ],
   "source": [
    "for i in range (5):\n",
    "    print(i, end = \" \")"
   ]
  },
  {
   "cell_type": "code",
   "execution_count": 34,
   "metadata": {},
   "outputs": [
    {
     "name": "stdout",
     "output_type": "stream",
     "text": [
      "1\t2\t3\t4\t5\t6\t7\t8\t9\t\n",
      "\n",
      "2\t4\t6\t8\t10\t12\t14\t16\t18\t\n",
      "\n",
      "3\t6\t9\t12\t15\t18\t21\t24\t27\t\n",
      "\n",
      "4\t8\t12\t16\t20\t24\t28\t32\t36\t\n",
      "\n",
      "5\t10\t15\t20\t25\t30\t35\t40\t45\t\n",
      "\n",
      "6\t12\t18\t24\t30\t36\t42\t48\t54\t\n",
      "\n",
      "7\t14\t21\t28\t35\t42\t49\t56\t63\t\n",
      "\n",
      "8\t16\t24\t32\t40\t48\t56\t64\t72\t\n",
      "\n",
      "9\t18\t27\t36\t45\t54\t63\t72\t81\t\n",
      "\n"
     ]
    }
   ],
   "source": [
    "for i in range(1, 10):\n",
    "    for j in range(1, 10):\n",
    "        print(i*j, end=\"\\t\")\n",
    "    print(\"\\n\")"
   ]
  },
  {
   "cell_type": "code",
   "execution_count": 2,
   "metadata": {},
   "outputs": [
    {
     "name": "stdout",
     "output_type": "stream",
     "text": [
      "Для выхода нажмите Y\n",
      "Введите сумму для обмена: -5\n",
      "Сумма должна быть положительной!\n",
      "Введите сумму для обмена: y\n",
      "Работа обменного пункта завершена\n"
     ]
    }
   ],
   "source": [
    "# Программа обменный пункт\n",
    "\n",
    "print(\"Для выхода нажмите Y\")\n",
    "\n",
    "while True:\n",
    "    data = input(\"Введите сумму для обмена: \")\n",
    "    if data.lower() == \"y\":\n",
    "        break\n",
    "    money = int(data)\n",
    "    if money < 0:\n",
    "        print(\"Сумма должна быть положительной!\")\n",
    "        continue\n",
    "    cash = round(money / 60)\n",
    "    print(\"К выдаче\", cash, \"долларов\")\n",
    "    \n",
    "print(\"Работа обменного пункта завершена\")"
   ]
  },
  {
   "cell_type": "code",
   "execution_count": 6,
   "metadata": {},
   "outputs": [
    {
     "name": "stdout",
     "output_type": "stream",
     "text": [
      "Hello\n",
      "Hello\n"
     ]
    }
   ],
   "source": [
    "def say_hello():\n",
    "    print(\"Hello\")\n",
    "    \n",
    "say_hello()\n",
    "say_hello()"
   ]
  },
  {
   "cell_type": "code",
   "execution_count": 9,
   "metadata": {},
   "outputs": [
    {
     "name": "stdout",
     "output_type": "stream",
     "text": [
      "Hello, Andrey\n"
     ]
    }
   ],
   "source": [
    "def say_hello(name):\n",
    "    print(\"Hello,\", name)\n",
    "    \n",
    "say_hello(\"Andrey\")"
   ]
  },
  {
   "cell_type": "code",
   "execution_count": 11,
   "metadata": {},
   "outputs": [
    {
     "name": "stdout",
     "output_type": "stream",
     "text": [
      "Hello, Tom\n",
      "Hello, Andrey\n"
     ]
    }
   ],
   "source": [
    "def say_hello(name = \"Tom\"):\n",
    "    print(\"Hello,\", name)\n",
    "    \n",
    "say_hello()\n",
    "say_hello(\"Andrey\")"
   ]
  },
  {
   "cell_type": "code",
   "execution_count": 15,
   "metadata": {},
   "outputs": [
    {
     "name": "stdout",
     "output_type": "stream",
     "text": [
      "Name: Andrey \t Age: 23\n",
      "Name: Sasha \t Age: 19\n"
     ]
    }
   ],
   "source": [
    "def display_info(name, age):\n",
    "    print(\"Name:\", name, \"\\t\", \"Age:\", age)\n",
    "    \n",
    "display_info(\"Andrey\", 23)\n",
    "display_info(age=19, name=\"Sasha\")"
   ]
  },
  {
   "cell_type": "code",
   "execution_count": 17,
   "metadata": {},
   "outputs": [
    {
     "name": "stdout",
     "output_type": "stream",
     "text": [
      "18\n"
     ]
    }
   ],
   "source": [
    "def sum(*params):\n",
    "    result = 0\n",
    "    for i in params:\n",
    "        result += i\n",
    "    return result\n",
    "\n",
    "print(sum(4,9,5))"
   ]
  },
  {
   "cell_type": "code",
   "execution_count": 19,
   "metadata": {},
   "outputs": [
    {
     "name": "stdout",
     "output_type": "stream",
     "text": [
      "Name: Tom \t Age: 33\n"
     ]
    }
   ],
   "source": [
    "def create_default_user():\n",
    "    name = \"Tom\"\n",
    "    age = 33\n",
    "    return name, age\n",
    "\n",
    "user_name, user_age = create_default_user()\n",
    "print(\"Name:\", user_name, \"\\t Age:\", user_age)"
   ]
  },
  {
   "cell_type": "code",
   "execution_count": 25,
   "metadata": {},
   "outputs": [
    {
     "name": "stdout",
     "output_type": "stream",
     "text": [
      "Hello, Andrey\n",
      "К выдаче 2666.67 долларов\n"
     ]
    }
   ],
   "source": [
    "def main():\n",
    "    say_hello(\"Andrey\")\n",
    "    usd_rate = 60\n",
    "    money = 160000\n",
    "    result = exchange(usd_rate, money)\n",
    "    print(\"К выдаче\", result, \"долларов\")\n",
    "    \n",
    "def say_hello(name):\n",
    "    print(\"Hello,\", name)\n",
    "    \n",
    "def exchange(usd_rate, money):\n",
    "    result = round(money/usd_rate, 2)\n",
    "    return result\n",
    "\n",
    "main()"
   ]
  },
  {
   "cell_type": "code",
   "execution_count": 28,
   "metadata": {},
   "outputs": [
    {
     "name": "stdout",
     "output_type": "stream",
     "text": [
      "Good bye Bob\n",
      "Bob\n"
     ]
    }
   ],
   "source": [
    "name = \"Tom\"\n",
    "\n",
    "def say_bye():\n",
    "    global name\n",
    "    name = \"Bob\"\n",
    "    print(\"Good bye\", name)\n",
    "    \n",
    "say_bye()    \n",
    "print(name)"
   ]
  },
  {
   "cell_type": "code",
   "execution_count": 31,
   "metadata": {},
   "outputs": [
    {
     "name": "stdout",
     "output_type": "stream",
     "text": [
      "Площадь круга с радиусом 50 равна 7850.0\n"
     ]
    }
   ],
   "source": [
    "PI = 3.14\n",
    " \n",
    "# вычисление площади круга\n",
    "def get_circle_square(radius):\n",
    "    print(\"Площадь круга с радиусом\", radius, \"равна\", PI * radius * radius)\n",
    "    \n",
    "get_circle_square(50)"
   ]
  },
  {
   "cell_type": "code",
   "execution_count": 33,
   "metadata": {},
   "outputs": [
    {
     "name": "stdout",
     "output_type": "stream",
     "text": [
      "Введите число: 4\n",
      "Введённое число: 4\n",
      "Завершение программы\n"
     ]
    }
   ],
   "source": [
    "try:\n",
    "    number = int(input(\"Введите число: \"))\n",
    "    print(\"Введённое число:\", number)\n",
    "except:\n",
    "    print(\"Преобразование прошло неудачно\")\n",
    "print(\"Завершение программы\")"
   ]
  },
  {
   "cell_type": "code",
   "execution_count": null,
   "metadata": {},
   "outputs": [],
   "source": [
    "try:\n",
    "    number = int(input(\"Введите число: \"))\n",
    "    print(\"Введённое число:\", number)\n",
    "except ValueError:\n",
    "    print(\"Преобразование прошло неудачно\")\n",
    "print(\"Завершение программы\")"
   ]
  },
  {
   "cell_type": "code",
   "execution_count": 1,
   "metadata": {},
   "outputs": [
    {
     "name": "stdout",
     "output_type": "stream",
     "text": [
      "Введите число: 5\n",
      "Введите число: 0\n",
      "Попытка деления на ноль\n",
      "Завершение программы\n"
     ]
    }
   ],
   "source": [
    "try:\n",
    "    number1 = int(input(\"Введите число: \"))\n",
    "    number2 = int(input(\"Введите число: \"))\n",
    "    print(\"Результат деления:\", number1/number2)\n",
    "except ValueError:\n",
    "    print(\"Преобразование прошло неудачно\")\n",
    "except ZeroDivisionError:\n",
    "    print(\"Попытка деления на ноль\")\n",
    "except Exception:\n",
    "    print(\"Общее исключение\")\n",
    "print(\"Завершение программы\")"
   ]
  },
  {
   "cell_type": "code",
   "execution_count": null,
   "metadata": {},
   "outputs": [],
   "source": [
    "try:\n",
    "    number = int(input(\"Введите число: \"))\n",
    "    print(\"Введённое число:\", number)\n",
    "except ValueError:\n",
    "    print(\"Не удалось преобразовать число\")\n",
    "finally:\n",
    "    print(\"Блок try завершил выполнение\")\n",
    "print(\"Завершение программы\")\n",
    "    \n"
   ]
  },
  {
   "cell_type": "code",
   "execution_count": 1,
   "metadata": {},
   "outputs": [
    {
     "name": "stdout",
     "output_type": "stream",
     "text": [
      "Введите число: re\n",
      "Сведения об исключении invalid literal for int() with base 10: 're'\n",
      "Завершение программы\n"
     ]
    }
   ],
   "source": [
    "try:\n",
    "    number = int(input(\"Введите число: \"))\n",
    "    print(\"Введённое число:\", number)\n",
    "except ValueError as e:\n",
    "    print(\"Сведения об исключении\", e)\n",
    "print(\"Завершение программы\")"
   ]
  },
  {
   "cell_type": "code",
   "execution_count": 4,
   "metadata": {},
   "outputs": [
    {
     "name": "stdout",
     "output_type": "stream",
     "text": [
      "Введите число: 3\n",
      "Введите число: 0\n",
      "Второе число не должно быть равно 0\n",
      "Завершение программы\n"
     ]
    }
   ],
   "source": [
    "try:\n",
    "    number1 = int(input(\"Введите число: \"))\n",
    "    number2 = int(input(\"Введите число: \"))\n",
    "    if number2 == 0:\n",
    "        raise Exception(\"Второе число не должно быть равно 0\")\n",
    "    print(\"Результат деления двух чисел:\", number1/number2)\n",
    "except ValueError:\n",
    "    print(\"Введены неккоректные данные\")\n",
    "except Exception as e:\n",
    "    print(e)\n",
    "print(\"Завершение программы\")"
   ]
  },
  {
   "cell_type": "code",
   "execution_count": null,
   "metadata": {},
   "outputs": [],
   "source": []
  }
 ],
 "metadata": {
  "kernelspec": {
   "display_name": "Python 3",
   "language": "python",
   "name": "python3"
  },
  "language_info": {
   "codemirror_mode": {
    "name": "ipython",
    "version": 3
   },
   "file_extension": ".py",
   "mimetype": "text/x-python",
   "name": "python",
   "nbconvert_exporter": "python",
   "pygments_lexer": "ipython3",
   "version": "3.7.4"
  }
 },
 "nbformat": 4,
 "nbformat_minor": 4
}
