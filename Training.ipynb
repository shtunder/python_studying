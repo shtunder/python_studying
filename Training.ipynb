{
 "cells": [
  {
   "cell_type": "code",
   "execution_count": 1,
   "metadata": {},
   "outputs": [
    {
     "name": "stdout",
     "output_type": "stream",
     "text": [
      "6\n",
      "Hello\n"
     ]
    }
   ],
   "source": [
    "print(2 + 4)\n",
    "print(\"Hello\")"
   ]
  },
  {
   "cell_type": "code",
   "execution_count": 2,
   "metadata": {},
   "outputs": [
    {
     "name": "stdout",
     "output_type": "stream",
     "text": [
      "Hello World\n"
     ]
    }
   ],
   "source": [
    "#Вывод сообщения на консоль\n",
    "print(\"Hello World\")"
   ]
  },
  {
   "cell_type": "code",
   "execution_count": 3,
   "metadata": {},
   "outputs": [
    {
     "name": "stdout",
     "output_type": "stream",
     "text": [
      "Full name: Tom Smith\n"
     ]
    }
   ],
   "source": [
    "print(\"Full name:\", \"Tom\", \"Smith\")"
   ]
  },
  {
   "cell_type": "code",
   "execution_count": 4,
   "metadata": {},
   "outputs": [
    {
     "name": "stdout",
     "output_type": "stream",
     "text": [
      "Введите имя: Андрей\n",
      "Привет Андрей\n"
     ]
    }
   ],
   "source": [
    "name = input(\"Введите имя: \")\n",
    "print(\"Привет\", name)"
   ]
  },
  {
   "cell_type": "code",
   "execution_count": 5,
   "metadata": {},
   "outputs": [
    {
     "name": "stdout",
     "output_type": "stream",
     "text": [
      "Ключевые слова: and, as, assert, break, class, continue, def, del, elif, else, except, False, finally, for, from, global, if, import, in, is, lambda, None, nonlocal, not, or, pass, raise, return, True, try, while, with, yield\n"
     ]
    }
   ],
   "source": [
    "print(\"Ключевые слова: and, as, assert, break, class, continue, def, del, elif, else, except, False, finally, for, from, global, if, import, in, is, lambda, None, nonlocal, not, or, pass, raise, return, True, try, while, with, yield\")\n"
   ]
  },
  {
   "cell_type": "code",
   "execution_count": 6,
   "metadata": {},
   "outputs": [
    {
     "name": "stdout",
     "output_type": "stream",
     "text": [
      "<class 'str'>\n"
     ]
    }
   ],
   "source": [
    "user_id = \"12tomsmith\"\n",
    "print(type(user_id))"
   ]
  },
  {
   "cell_type": "code",
   "execution_count": 7,
   "metadata": {},
   "outputs": [
    {
     "name": "stdout",
     "output_type": "stream",
     "text": [
      "8\n"
     ]
    }
   ],
   "source": [
    "print(6 + 2)"
   ]
  },
  {
   "cell_type": "code",
   "execution_count": 8,
   "metadata": {},
   "outputs": [
    {
     "name": "stdout",
     "output_type": "stream",
     "text": [
      "4\n"
     ]
    }
   ],
   "source": [
    "print(6 - 2)"
   ]
  },
  {
   "cell_type": "code",
   "execution_count": 9,
   "metadata": {},
   "outputs": [
    {
     "name": "stdout",
     "output_type": "stream",
     "text": [
      "3.0\n"
     ]
    }
   ],
   "source": [
    "print(6 / 2)"
   ]
  },
  {
   "cell_type": "code",
   "execution_count": 10,
   "metadata": {},
   "outputs": [
    {
     "name": "stdout",
     "output_type": "stream",
     "text": [
      "3\n"
     ]
    }
   ],
   "source": [
    "print(7 // 2)"
   ]
  },
  {
   "cell_type": "code",
   "execution_count": 11,
   "metadata": {},
   "outputs": [
    {
     "data": {
      "text/plain": [
       "3"
      ]
     },
     "execution_count": 11,
     "metadata": {},
     "output_type": "execute_result"
    }
   ],
   "source": [
    "7 // 2"
   ]
  },
  {
   "cell_type": "code",
   "execution_count": 12,
   "metadata": {},
   "outputs": [
    {
     "name": "stdout",
     "output_type": "stream",
     "text": [
      "36\n"
     ]
    }
   ],
   "source": [
    "print(6 ** 2)"
   ]
  },
  {
   "cell_type": "code",
   "execution_count": 13,
   "metadata": {},
   "outputs": [
    {
     "name": "stdout",
     "output_type": "stream",
     "text": [
      "1\n"
     ]
    }
   ],
   "source": [
    "print(9 % 2)"
   ]
  },
  {
   "cell_type": "code",
   "execution_count": 14,
   "metadata": {},
   "outputs": [
    {
     "name": "stdout",
     "output_type": "stream",
     "text": [
      "Приоритеты операций: **, *, /, //, %, +, -\n"
     ]
    }
   ],
   "source": [
    "print(\"Приоритеты операций: **, *, /, //, %, +, -\")"
   ]
  },
  {
   "cell_type": "code",
   "execution_count": 15,
   "metadata": {},
   "outputs": [
    {
     "name": "stdout",
     "output_type": "stream",
     "text": [
      "5.535\n"
     ]
    }
   ],
   "source": [
    "print(round(5.5345341, 3))"
   ]
  },
  {
   "cell_type": "code",
   "execution_count": 16,
   "metadata": {},
   "outputs": [
    {
     "name": "stdout",
     "output_type": "stream",
     "text": [
      "4 64 10\n"
     ]
    }
   ],
   "source": [
    "x = 0b0100\n",
    "a = 0o0100\n",
    "y = 0x0a\n",
    "print(x, a, y)"
   ]
  },
  {
   "cell_type": "code",
   "execution_count": 17,
   "metadata": {},
   "outputs": [
    {
     "name": "stdout",
     "output_type": "stream",
     "text": [
      "10 00001010 0012 000a\n"
     ]
    }
   ],
   "source": [
    "print(\"{0} {0:08b} {0:04o} {0:04x}\".format(y))"
   ]
  },
  {
   "cell_type": "code",
   "execution_count": 18,
   "metadata": {},
   "outputs": [
    {
     "name": "stdout",
     "output_type": "stream",
     "text": [
      "True\n"
     ]
    }
   ],
   "source": [
    "age = 23\n",
    "weight = 65\n",
    "result = age > 20 and weight == 65\n",
    "print(result)"
   ]
  },
  {
   "cell_type": "code",
   "execution_count": 19,
   "metadata": {},
   "outputs": [
    {
     "name": "stdout",
     "output_type": "stream",
     "text": [
      "Tom Smith\n",
      "Tom Smith\n"
     ]
    }
   ],
   "source": [
    "name = \"Tom\"\n",
    "surname = 'Smith'\n",
    "print(name, surname)\n",
    "print(name + \" \" + surname)"
   ]
  },
  {
   "cell_type": "code",
   "execution_count": 20,
   "metadata": {},
   "outputs": [
    {
     "name": "stdout",
     "output_type": "stream",
     "text": [
      "Пришло время действовать \n",
      "Согласен?\n"
     ]
    }
   ],
   "source": [
    "print(\"Пришло время действовать \\nСогласен?\")"
   ]
  },
  {
   "cell_type": "code",
   "execution_count": 21,
   "metadata": {},
   "outputs": [
    {
     "name": "stdout",
     "output_type": "stream",
     "text": [
      "name \tsurname\n"
     ]
    }
   ],
   "source": [
    "print(\"name \\tsurname\")"
   ]
  },
  {
   "cell_type": "code",
   "execution_count": 22,
   "metadata": {},
   "outputs": [
    {
     "name": "stdout",
     "output_type": "stream",
     "text": [
      "Cafe \"Central Park\"\n"
     ]
    }
   ],
   "source": [
    "print(\"Cafe \\\"Central Park\\\"\")"
   ]
  },
  {
   "cell_type": "code",
   "execution_count": 23,
   "metadata": {},
   "outputs": [
    {
     "name": "stdout",
     "output_type": "stream",
     "text": [
      "True\n"
     ]
    }
   ],
   "source": [
    "str1 = \"Tom\"\n",
    "str2 = 'tom'\n",
    "print(str1.lower() == str2.lower())"
   ]
  },
  {
   "cell_type": "code",
   "execution_count": 24,
   "metadata": {},
   "outputs": [
    {
     "name": "stdout",
     "output_type": "stream",
     "text": [
      "ANDREY\n"
     ]
    }
   ],
   "source": [
    "str3 = 'andrey'\n",
    "print(str3.upper())"
   ]
  },
  {
   "cell_type": "code",
   "execution_count": 25,
   "metadata": {},
   "outputs": [
    {
     "name": "stdout",
     "output_type": "stream",
     "text": [
      "Доступ частично разрешён\n"
     ]
    }
   ],
   "source": [
    "age = 18\n",
    "if age >= 21:\n",
    "    print(\"Доступ разрешён\")\n",
    "elif age >=18:\n",
    "    print(\"Доступ частично разрешён\")\n",
    "else:\n",
    "    print(\"Вход запрещён\")"
   ]
  },
  {
   "cell_type": "code",
   "execution_count": 26,
   "metadata": {},
   "outputs": [
    {
     "name": "stdout",
     "output_type": "stream",
     "text": [
      "Введите сумму, которую вы хотите обменять: 120000\n",
      "Укажите код валюты (доллары - 400, евро - 401): 400\n",
      "Валюта: доллары США\n",
      "К получению: 2000.0\n"
     ]
    }
   ],
   "source": [
    "#Программа обменный пункт\n",
    "\n",
    "usd = 60\n",
    "euro = 70\n",
    "\n",
    "money = int(input(\"Введите сумму, которую вы хотите обменять: \"))\n",
    "currency = int(input(\"Укажите код валюты (доллары - 400, евро - 401): \"))\n",
    "\n",
    "if currency == 400:\n",
    "    cash = round(money / usd, 2)\n",
    "    print(\"Валюта: доллары США\")\n",
    "elif currency == 401:\n",
    "    cash = round(money / euro, 2)\n",
    "    print(\"Валюта: евро\")\n",
    "else:\n",
    "    cash = 0\n",
    "    print(\"Неизвестная валюта\")\n",
    "    \n",
    "print(\"К получению:\", cash)"
   ]
  },
  {
   "cell_type": "code",
   "execution_count": 27,
   "metadata": {},
   "outputs": [
    {
     "name": "stdout",
     "output_type": "stream",
     "text": [
      "Привет\n",
      "Для продолжения нажмите Y, а для выхода любую другую клавишу: y\n",
      "Привет\n",
      "Для продолжения нажмите Y, а для выхода любую другую клавишу: y\n",
      "Привет\n",
      "Для продолжения нажмите Y, а для выхода любую другую клавишу: n\n",
      "Работа программы завершена\n"
     ]
    }
   ],
   "source": [
    "choice = \"y\"\n",
    "\n",
    "while choice.lower() == \"y\":\n",
    "    print(\"Привет\")\n",
    "    choice = input(\"Для продолжения нажмите Y, а для выхода любую другую клавишу: \")\n",
    "\n",
    "print(\"Работа программы завершена\")"
   ]
  },
  {
   "cell_type": "code",
   "execution_count": 28,
   "metadata": {},
   "outputs": [
    {
     "name": "stdout",
     "output_type": "stream",
     "text": [
      "Введите число: 5\n",
      "Факториал числа 5 равен 120\n"
     ]
    }
   ],
   "source": [
    "# Программа по вычислению факториала\n",
    "\n",
    "number = int(input(\"Введите число: \"))\n",
    "i = 1\n",
    "factorial = 1\n",
    "while i <= number:\n",
    "    factorial *= i\n",
    "    i += 1\n",
    "print(\"Факториал числа\", number, \"равен\", factorial)"
   ]
  },
  {
   "cell_type": "code",
   "execution_count": 29,
   "metadata": {},
   "outputs": [
    {
     "name": "stdout",
     "output_type": "stream",
     "text": [
      "Введите число: 4\n",
      "Факториал числа 4 равен 24\n"
     ]
    }
   ],
   "source": [
    "# Программа по вычислению факториала\n",
    "\n",
    "number = int(input(\"Введите число: \"))\n",
    "factorial = 1\n",
    "for i in range(1, number + 1):\n",
    "    factorial *= i\n",
    "    \n",
    "print(\"Факториал числа\", number, \"равен\", factorial)"
   ]
  },
  {
   "cell_type": "code",
   "execution_count": 30,
   "metadata": {},
   "outputs": [
    {
     "name": "stdout",
     "output_type": "stream",
     "text": [
      "[0, 1, 2, 3, 4, 5, 6, 7, 8, 9]\n",
      "[10, 11, 12, 13, 14, 15, 16, 17, 18, 19]\n",
      "[10, 12, 14, 16, 18]\n",
      "[20, 19, 18, 17, 16, 15, 14, 13, 12, 11]\n"
     ]
    }
   ],
   "source": [
    "print(list(range(10)))\n",
    "print(list(range(10, 20)))\n",
    "print(list(range(10, 20, 2)))\n",
    "print(list(range(20, 10, -1)))"
   ]
  },
  {
   "cell_type": "code",
   "execution_count": 31,
   "metadata": {},
   "outputs": [
    {
     "name": "stdout",
     "output_type": "stream",
     "text": [
      "0 1 2 3 4 "
     ]
    }
   ],
   "source": [
    "for i in range (5):\n",
    "    print(i, end = \" \")"
   ]
  },
  {
   "cell_type": "code",
   "execution_count": 32,
   "metadata": {},
   "outputs": [
    {
     "name": "stdout",
     "output_type": "stream",
     "text": [
      "1\t2\t3\t4\t5\t6\t7\t8\t9\t\n",
      "\n",
      "2\t4\t6\t8\t10\t12\t14\t16\t18\t\n",
      "\n",
      "3\t6\t9\t12\t15\t18\t21\t24\t27\t\n",
      "\n",
      "4\t8\t12\t16\t20\t24\t28\t32\t36\t\n",
      "\n",
      "5\t10\t15\t20\t25\t30\t35\t40\t45\t\n",
      "\n",
      "6\t12\t18\t24\t30\t36\t42\t48\t54\t\n",
      "\n",
      "7\t14\t21\t28\t35\t42\t49\t56\t63\t\n",
      "\n",
      "8\t16\t24\t32\t40\t48\t56\t64\t72\t\n",
      "\n",
      "9\t18\t27\t36\t45\t54\t63\t72\t81\t\n",
      "\n"
     ]
    }
   ],
   "source": [
    "for i in range(1, 10):\n",
    "    for j in range(1, 10):\n",
    "        print(i*j, end=\"\\t\")\n",
    "    print(\"\\n\")"
   ]
  },
  {
   "cell_type": "code",
   "execution_count": 33,
   "metadata": {},
   "outputs": [
    {
     "name": "stdout",
     "output_type": "stream",
     "text": [
      "Для выхода нажмите Y\n",
      "Введите сумму для обмена: 120000\n",
      "К выдаче 2000 долларов\n",
      "Введите сумму для обмена: 23000\n",
      "К выдаче 383 долларов\n",
      "Введите сумму для обмена: y\n",
      "Работа обменного пункта завершена\n"
     ]
    }
   ],
   "source": [
    "# Программа обменный пункт\n",
    "\n",
    "print(\"Для выхода нажмите Y\")\n",
    "\n",
    "while True:\n",
    "    data = input(\"Введите сумму для обмена: \")\n",
    "    if data.lower() == \"y\":\n",
    "        break\n",
    "    money = int(data)\n",
    "    if money < 0:\n",
    "        print(\"Сумма должна быть положительной!\")\n",
    "        continue\n",
    "    cash = round(money / 60)\n",
    "    print(\"К выдаче\", cash, \"долларов\")\n",
    "    \n",
    "print(\"Работа обменного пункта завершена\")"
   ]
  },
  {
   "cell_type": "code",
   "execution_count": 34,
   "metadata": {},
   "outputs": [
    {
     "name": "stdout",
     "output_type": "stream",
     "text": [
      "Hello\n",
      "Hello\n"
     ]
    }
   ],
   "source": [
    "def say_hello():\n",
    "    print(\"Hello\")\n",
    "    \n",
    "say_hello()\n",
    "say_hello()"
   ]
  },
  {
   "cell_type": "code",
   "execution_count": 35,
   "metadata": {},
   "outputs": [
    {
     "name": "stdout",
     "output_type": "stream",
     "text": [
      "Hello, Andrey\n"
     ]
    }
   ],
   "source": [
    "def say_hello(name):\n",
    "    print(\"Hello,\", name)\n",
    "    \n",
    "say_hello(\"Andrey\")"
   ]
  },
  {
   "cell_type": "code",
   "execution_count": 36,
   "metadata": {},
   "outputs": [
    {
     "name": "stdout",
     "output_type": "stream",
     "text": [
      "Hello, Tom\n",
      "Hello, Andrey\n"
     ]
    }
   ],
   "source": [
    "def say_hello(name = \"Tom\"):\n",
    "    print(\"Hello,\", name)\n",
    "    \n",
    "say_hello()\n",
    "say_hello(\"Andrey\")"
   ]
  },
  {
   "cell_type": "code",
   "execution_count": 37,
   "metadata": {},
   "outputs": [
    {
     "name": "stdout",
     "output_type": "stream",
     "text": [
      "Name: Andrey \t Age: 23\n",
      "Name: Sasha \t Age: 19\n"
     ]
    }
   ],
   "source": [
    "def display_info(name, age):\n",
    "    print(\"Name:\", name, \"\\t\", \"Age:\", age)\n",
    "    \n",
    "display_info(\"Andrey\", 23)\n",
    "display_info(age=19, name=\"Sasha\")"
   ]
  },
  {
   "cell_type": "code",
   "execution_count": 38,
   "metadata": {},
   "outputs": [
    {
     "name": "stdout",
     "output_type": "stream",
     "text": [
      "18\n"
     ]
    }
   ],
   "source": [
    "def sum(*params):\n",
    "    result = 0\n",
    "    for i in params:\n",
    "        result += i\n",
    "    return result\n",
    "\n",
    "print(sum(4,9,5))"
   ]
  },
  {
   "cell_type": "code",
   "execution_count": 39,
   "metadata": {},
   "outputs": [
    {
     "name": "stdout",
     "output_type": "stream",
     "text": [
      "Name: Tom \t Age: 33\n"
     ]
    }
   ],
   "source": [
    "def create_default_user():\n",
    "    name = \"Tom\"\n",
    "    age = 33\n",
    "    return name, age\n",
    "\n",
    "user_name, user_age = create_default_user()\n",
    "print(\"Name:\", user_name, \"\\t Age:\", user_age)"
   ]
  },
  {
   "cell_type": "code",
   "execution_count": 40,
   "metadata": {},
   "outputs": [
    {
     "name": "stdout",
     "output_type": "stream",
     "text": [
      "Hello, Andrey\n",
      "К выдаче 2666.67 долларов\n"
     ]
    }
   ],
   "source": [
    "def main():\n",
    "    say_hello(\"Andrey\")\n",
    "    usd_rate = 60\n",
    "    money = 160000\n",
    "    result = exchange(usd_rate, money)\n",
    "    print(\"К выдаче\", result, \"долларов\")\n",
    "    \n",
    "def say_hello(name):\n",
    "    print(\"Hello,\", name)\n",
    "    \n",
    "def exchange(usd_rate, money):\n",
    "    result = round(money/usd_rate, 2)\n",
    "    return result\n",
    "\n",
    "main()"
   ]
  },
  {
   "cell_type": "code",
   "execution_count": 41,
   "metadata": {},
   "outputs": [
    {
     "name": "stdout",
     "output_type": "stream",
     "text": [
      "Good bye Bob\n",
      "Bob\n"
     ]
    }
   ],
   "source": [
    "name = \"Tom\"\n",
    "\n",
    "def say_bye():\n",
    "    global name\n",
    "    name = \"Bob\"\n",
    "    print(\"Good bye\", name)\n",
    "    \n",
    "say_bye()    \n",
    "print(name)"
   ]
  },
  {
   "cell_type": "code",
   "execution_count": 42,
   "metadata": {},
   "outputs": [
    {
     "name": "stdout",
     "output_type": "stream",
     "text": [
      "Площадь круга с радиусом 50 равна 7850.0\n"
     ]
    }
   ],
   "source": [
    "PI = 3.14\n",
    " \n",
    "# вычисление площади круга\n",
    "def get_circle_square(radius):\n",
    "    print(\"Площадь круга с радиусом\", radius, \"равна\", PI * radius * radius)\n",
    "    \n",
    "get_circle_square(50)"
   ]
  },
  {
   "cell_type": "code",
   "execution_count": 43,
   "metadata": {},
   "outputs": [
    {
     "name": "stdout",
     "output_type": "stream",
     "text": [
      "Введите число: re\n",
      "Преобразование прошло неудачно\n",
      "Завершение программы\n"
     ]
    }
   ],
   "source": [
    "try:\n",
    "    number = int(input(\"Введите число: \"))\n",
    "    print(\"Введённое число:\", number)\n",
    "except:\n",
    "    print(\"Преобразование прошло неудачно\")\n",
    "print(\"Завершение программы\")"
   ]
  },
  {
   "cell_type": "code",
   "execution_count": 44,
   "metadata": {},
   "outputs": [
    {
     "name": "stdout",
     "output_type": "stream",
     "text": [
      "Введите число: re\n",
      "Преобразование прошло неудачно\n",
      "Завершение программы\n"
     ]
    }
   ],
   "source": [
    "try:\n",
    "    number = int(input(\"Введите число: \"))\n",
    "    print(\"Введённое число:\", number)\n",
    "except ValueError:\n",
    "    print(\"Преобразование прошло неудачно\")\n",
    "print(\"Завершение программы\")"
   ]
  },
  {
   "cell_type": "code",
   "execution_count": 45,
   "metadata": {},
   "outputs": [
    {
     "name": "stdout",
     "output_type": "stream",
     "text": [
      "Введите число: 5\n",
      "Введите число: 0\n",
      "Попытка деления на ноль\n",
      "Завершение программы\n"
     ]
    }
   ],
   "source": [
    "try:\n",
    "    number1 = int(input(\"Введите число: \"))\n",
    "    number2 = int(input(\"Введите число: \"))\n",
    "    print(\"Результат деления:\", number1/number2)\n",
    "except ValueError:\n",
    "    print(\"Преобразование прошло неудачно\")\n",
    "except ZeroDivisionError:\n",
    "    print(\"Попытка деления на ноль\")\n",
    "except Exception:\n",
    "    print(\"Общее исключение\")\n",
    "print(\"Завершение программы\")"
   ]
  },
  {
   "cell_type": "code",
   "execution_count": 46,
   "metadata": {},
   "outputs": [
    {
     "name": "stdout",
     "output_type": "stream",
     "text": [
      "Введите число: 4\n",
      "Введённое число: 4\n",
      "Блок try завершил выполнение\n",
      "Завершение программы\n"
     ]
    }
   ],
   "source": [
    "try:\n",
    "    number = int(input(\"Введите число: \"))\n",
    "    print(\"Введённое число:\", number)\n",
    "except ValueError:\n",
    "    print(\"Не удалось преобразовать число\")\n",
    "finally:\n",
    "    print(\"Блок try завершил выполнение\")\n",
    "print(\"Завершение программы\")\n",
    "    \n"
   ]
  },
  {
   "cell_type": "code",
   "execution_count": 47,
   "metadata": {},
   "outputs": [
    {
     "name": "stdout",
     "output_type": "stream",
     "text": [
      "Введите число: re\n",
      "Сведения об исключении invalid literal for int() with base 10: 're'\n",
      "Завершение программы\n"
     ]
    }
   ],
   "source": [
    "try:\n",
    "    number = int(input(\"Введите число: \"))\n",
    "    print(\"Введённое число:\", number)\n",
    "except ValueError as e:\n",
    "    print(\"Сведения об исключении\", e)\n",
    "print(\"Завершение программы\")"
   ]
  },
  {
   "cell_type": "code",
   "execution_count": 48,
   "metadata": {},
   "outputs": [
    {
     "name": "stdout",
     "output_type": "stream",
     "text": [
      "Введите число: 5\n",
      "Введите число: 0\n",
      "Второе число не должно быть равно 0\n",
      "Завершение программы\n"
     ]
    }
   ],
   "source": [
    "try:\n",
    "    number1 = int(input(\"Введите число: \"))\n",
    "    number2 = int(input(\"Введите число: \"))\n",
    "    if number2 == 0:\n",
    "        raise Exception(\"Второе число не должно быть равно 0\")\n",
    "    print(\"Результат деления двух чисел:\", number1/number2)\n",
    "except ValueError:\n",
    "    print(\"Введены неккоректные данные\")\n",
    "except Exception as e:\n",
    "    print(e)\n",
    "print(\"Завершение программы\")"
   ]
  },
  {
   "cell_type": "code",
   "execution_count": 49,
   "metadata": {},
   "outputs": [
    {
     "name": "stdout",
     "output_type": "stream",
     "text": [
      "3\n",
      "5\n"
     ]
    }
   ],
   "source": [
    "numbers = [1, 2, 3, 4, 5]\n",
    "numbers1 = []\n",
    "numbers2 = list()\n",
    "numbers3 = list(numbers)\n",
    "print(numbers[2])\n",
    "print(numbers[-1])"
   ]
  },
  {
   "cell_type": "code",
   "execution_count": 50,
   "metadata": {},
   "outputs": [
    {
     "name": "stdout",
     "output_type": "stream",
     "text": [
      "[5, 5, 5, 5, 5, 5]\n"
     ]
    }
   ],
   "source": [
    "numbers = [5] * 6\n",
    "print(numbers)"
   ]
  },
  {
   "cell_type": "code",
   "execution_count": 51,
   "metadata": {},
   "outputs": [
    {
     "name": "stdout",
     "output_type": "stream",
     "text": [
      "[0, 1, 2, 3, 4, 5, 6, 7, 8, 9]\n",
      "[5, 6, 7, 8, 9, 10, 11, 12, 13, 14]\n",
      "[20, 18, 16, 14, 12, 10, 8, 6, 4, 2]\n"
     ]
    }
   ],
   "source": [
    "numbers = list(range(10))\n",
    "print(numbers)\n",
    "numbers = list(range(5, 15))\n",
    "print(numbers)\n",
    "numbers = list(range(20, 0, -2))\n",
    "print(numbers)"
   ]
  },
  {
   "cell_type": "code",
   "execution_count": 52,
   "metadata": {},
   "outputs": [],
   "source": [
    "objects = [1, 2.6, \"Hello\", True]"
   ]
  },
  {
   "cell_type": "code",
   "execution_count": 53,
   "metadata": {},
   "outputs": [
    {
     "name": "stdout",
     "output_type": "stream",
     "text": [
      "Microsoft\n",
      "Google\n",
      "Oracle\n",
      "Apple\n"
     ]
    }
   ],
   "source": [
    "companies = [\"Microsoft\", \"Google\", \"Oracle\", \"Apple\"]\n",
    "for item in companies:\n",
    "    print(item)"
   ]
  },
  {
   "cell_type": "code",
   "execution_count": 54,
   "metadata": {},
   "outputs": [
    {
     "name": "stdout",
     "output_type": "stream",
     "text": [
      "Microsoft\n",
      "Google\n",
      "Oracle\n",
      "Apple\n"
     ]
    }
   ],
   "source": [
    "companies = [\"Microsoft\", \"Google\", \"Oracle\", \"Apple\"]\n",
    "i = 0\n",
    "while i < len(companies):\n",
    "    print(companies[i])\n",
    "    i += 1"
   ]
  },
  {
   "cell_type": "code",
   "execution_count": 55,
   "metadata": {},
   "outputs": [
    {
     "name": "stdout",
     "output_type": "stream",
     "text": [
      "numbers equal to numbers2\n"
     ]
    }
   ],
   "source": [
    "numbers = [1, 2, 3, 4, 5, 6, 7, 8, 9]\n",
    "numbers2 = list(range(1,10))\n",
    "if numbers == numbers2:\n",
    "    print(\"numbers equal to numbers2\")\n",
    "else:\n",
    "    print(\"numbers is not equal to numbers2\")"
   ]
  },
  {
   "cell_type": "code",
   "execution_count": 56,
   "metadata": {},
   "outputs": [
    {
     "name": "stdout",
     "output_type": "stream",
     "text": [
      "['Tom', 'Bob', 'Alice']\n",
      "['Tom', 'Bill', 'Bob', 'Alice']\n",
      "['Bill', 'Bob', 'Alice']\n",
      "Tom\n"
     ]
    }
   ],
   "source": [
    "users = [\"Tom\", \"Bob\"]\n",
    "users.append(\"Alice\")\n",
    "print(users)\n",
    "users.insert(1, \"Bill\")\n",
    "print(users)\n",
    "i = users.index(\"Tom\")\n",
    "removed_item = users.pop(i)\n",
    "print(users)\n",
    "print(removed_item)"
   ]
  },
  {
   "cell_type": "code",
   "execution_count": 57,
   "metadata": {},
   "outputs": [
    {
     "name": "stdout",
     "output_type": "stream",
     "text": [
      "['Bill', 'Bob']\n"
     ]
    }
   ],
   "source": [
    "last_user = users[-1]\n",
    "users.remove(last_user)\n",
    "print(users)"
   ]
  },
  {
   "cell_type": "code",
   "execution_count": 58,
   "metadata": {},
   "outputs": [
    {
     "name": "stdout",
     "output_type": "stream",
     "text": [
      "[]\n"
     ]
    }
   ],
   "source": [
    "users.clear()\n",
    "print(users)"
   ]
  },
  {
   "cell_type": "code",
   "execution_count": 59,
   "metadata": {},
   "outputs": [
    {
     "name": "stdout",
     "output_type": "stream",
     "text": [
      "['Microsoft', 'Google', 'Apple']\n"
     ]
    }
   ],
   "source": [
    "companies = [\"Microsoft\", \"Google\", \"Oracle\", \"Apple\"]\n",
    "item = \"Oracle\"\n",
    "if item in companies:\n",
    "    companies.remove(item)\n",
    "    \n",
    "print(companies)"
   ]
  },
  {
   "cell_type": "code",
   "execution_count": 60,
   "metadata": {},
   "outputs": [
    {
     "name": "stdout",
     "output_type": "stream",
     "text": [
      "3\n"
     ]
    }
   ],
   "source": [
    "users = [\"Tom\", \"Bob\", \"Alice\", \"Tom\", \"Bill\", \"Tom\"]\n",
    "users_count = users.count(\"Tom\")\n",
    "print(users_count)"
   ]
  },
  {
   "cell_type": "code",
   "execution_count": 61,
   "metadata": {},
   "outputs": [
    {
     "name": "stdout",
     "output_type": "stream",
     "text": [
      "['Alice', 'Bill', 'Bob', 'Sam', 'Tom']\n",
      "['Tom', 'Sam', 'Bob', 'Bill', 'Alice']\n"
     ]
    }
   ],
   "source": [
    "users = [\"Tom\", \"Bob\", \"Alice\", \"Sam\", \"Bill\"]\n",
    "users.sort()\n",
    "print(users)\n",
    "users.reverse()\n",
    "print(users)"
   ]
  },
  {
   "cell_type": "code",
   "execution_count": 62,
   "metadata": {},
   "outputs": [
    {
     "name": "stdout",
     "output_type": "stream",
     "text": [
      "['Bill', 'Sam', 'Tom', 'alice', 'bob']\n",
      "['alice', 'Bill', 'bob', 'Sam', 'Tom']\n"
     ]
    }
   ],
   "source": [
    "users = [\"Tom\", \"bob\", \"alice\", \"Sam\", \"Bill\"]\n",
    "\n",
    "users.sort()\n",
    "print(users)\n",
    "users.sort(key = str.lower)\n",
    "print(users)"
   ]
  },
  {
   "cell_type": "code",
   "execution_count": 63,
   "metadata": {},
   "outputs": [
    {
     "name": "stdout",
     "output_type": "stream",
     "text": [
      "['alice', 'Bill', 'bob', 'Sam', 'Tom']\n"
     ]
    }
   ],
   "source": [
    "users = [\"Tom\", \"bob\", \"alice\", \"Sam\", \"Bill\"]\n",
    "\n",
    "sorted_users = sorted(users, key = str.lower)\n",
    "print(sorted_users)"
   ]
  },
  {
   "cell_type": "code",
   "execution_count": 64,
   "metadata": {},
   "outputs": [
    {
     "name": "stdout",
     "output_type": "stream",
     "text": [
      "1\n",
      "21\n"
     ]
    }
   ],
   "source": [
    "numbers = [9, 21, 12, 1, 3, 15, 18]\n",
    "print(min(numbers))\n",
    "print(max(numbers))"
   ]
  },
  {
   "cell_type": "code",
   "execution_count": 65,
   "metadata": {},
   "outputs": [
    {
     "name": "stdout",
     "output_type": "stream",
     "text": [
      "['Tom', 'Bob', 'Alice', 'Sam']\n",
      "['Tom', 'Bob', 'Alice', 'Sam']\n"
     ]
    }
   ],
   "source": [
    "users1 = [\"Tom\", \"Bob\", \"Alice\"]\n",
    "users2 = users1\n",
    "users2.append(\"Sam\")\n",
    "print(users1)\n",
    "print(users2)"
   ]
  },
  {
   "cell_type": "code",
   "execution_count": 66,
   "metadata": {},
   "outputs": [
    {
     "name": "stdout",
     "output_type": "stream",
     "text": [
      "['Tom', 'Bob', 'Alice']\n",
      "['Tom', 'Bob', 'Alice', 'Sam']\n"
     ]
    }
   ],
   "source": [
    "import copy\n",
    "\n",
    "users1 = [\"Tom\", \"Bob\", \"Alice\"]\n",
    "users2 = copy.deepcopy(users1)\n",
    "users2.append(\"Sam\")\n",
    "\n",
    "print(users1)\n",
    "print(users2)"
   ]
  },
  {
   "cell_type": "code",
   "execution_count": 67,
   "metadata": {},
   "outputs": [
    {
     "name": "stdout",
     "output_type": "stream",
     "text": [
      "['Tom', 'Bob', 'Alice']\n",
      "['Sam', 'Tim', 'Bill']\n",
      "['Bob', 'Alice']\n",
      "['Bob', 'Sam', 'Bill']\n"
     ]
    }
   ],
   "source": [
    "users = [\"Tom\", \"Bob\", \"Alice\", \"Sam\", \"Tim\", \"Bill\"]\n",
    "\n",
    "slice_users1 = users[:3]\n",
    "print(slice_users1)\n",
    "\n",
    "slice_users2 = users[3:]\n",
    "print(slice_users2)\n",
    "\n",
    "slice_users3 = users[1:3]\n",
    "print(slice_users3)\n",
    "\n",
    "slice_users4 = users[1:6:2]\n",
    "print(slice_users4)"
   ]
  },
  {
   "cell_type": "code",
   "execution_count": 68,
   "metadata": {},
   "outputs": [
    {
     "name": "stdout",
     "output_type": "stream",
     "text": [
      "['Tom', 'Bob', 'Alice', 'Tom', 'Sam', 'Tim', 'Bill']\n"
     ]
    }
   ],
   "source": [
    "users1 = [\"Tom\", \"Bob\", \"Alice\"]\n",
    "users2 = [\"Tom\", \"Sam\", \"Tim\", \"Bill\"]\n",
    "users3 = users1 + users2\n",
    "print(users3)"
   ]
  },
  {
   "cell_type": "code",
   "execution_count": 69,
   "metadata": {},
   "outputs": [
    {
     "name": "stdout",
     "output_type": "stream",
     "text": [
      "['Tom', 29]\n",
      "Tom\n",
      "29\n"
     ]
    }
   ],
   "source": [
    "users = [\n",
    "    [\"Tom\", 29],\n",
    "    [\"Alice\", 33],\n",
    "    [\"Bob\", 27]\n",
    "]\n",
    "\n",
    "print(users[0])\n",
    "print(users[0][0])\n",
    "print(users[0][1])"
   ]
  },
  {
   "cell_type": "code",
   "execution_count": 70,
   "metadata": {},
   "outputs": [
    {
     "name": "stdout",
     "output_type": "stream",
     "text": [
      "['Bill', 41]\n",
      "['Bill', 41, '+79876543210']\n",
      "[['Tom', 29], ['Alice', 33], ['Bob', 27], ['Bill', 41, '+79876543210']]\n",
      "[['Sam', 18], ['Alice', 33], ['Bob', 27]]\n"
     ]
    }
   ],
   "source": [
    "users = [\n",
    "    [\"Tom\", 29],\n",
    "    [\"Alice\", 33],\n",
    "    [\"Bob\", 27]\n",
    "]\n",
    "\n",
    "user = list()\n",
    "user.append(\"Bill\")\n",
    "user.append(41)\n",
    "\n",
    "users.append(user)\n",
    "\n",
    "print(users[-1])\n",
    "\n",
    "users[-1].append(\"+79876543210\")\n",
    "print(users[-1])\n",
    "print(users)\n",
    "\n",
    "users.pop(-1)\n",
    "users[0] = [\"Sam\", 18]\n",
    "print(users)"
   ]
  },
  {
   "cell_type": "code",
   "execution_count": 71,
   "metadata": {},
   "outputs": [
    {
     "name": "stdout",
     "output_type": "stream",
     "text": [
      "Tom | 29 | Alice | 33 | Bob | 27 | "
     ]
    }
   ],
   "source": [
    "users = [\n",
    "    [\"Tom\", 29],\n",
    "    [\"Alice\", 33],\n",
    "    [\"Bob\", 27]\n",
    "]\n",
    "\n",
    "for user in users:\n",
    "    for item in user:\n",
    "        print(item, end = \" | \")"
   ]
  },
  {
   "cell_type": "code",
   "execution_count": 1,
   "metadata": {},
   "outputs": [
    {
     "name": "stdout",
     "output_type": "stream",
     "text": [
      "('Tom', 23)\n"
     ]
    }
   ],
   "source": [
    "user = (\"Tom\", 23)\n",
    "print(user)"
   ]
  },
  {
   "cell_type": "code",
   "execution_count": 2,
   "metadata": {},
   "outputs": [
    {
     "name": "stdout",
     "output_type": "stream",
     "text": [
      "('Tom', 23)\n"
     ]
    }
   ],
   "source": [
    "user = \"Tom\", 23\n",
    "print(user)"
   ]
  },
  {
   "cell_type": "code",
   "execution_count": 3,
   "metadata": {},
   "outputs": [],
   "source": [
    "user = (\"Tom\",)"
   ]
  },
  {
   "cell_type": "code",
   "execution_count": 4,
   "metadata": {},
   "outputs": [
    {
     "name": "stdout",
     "output_type": "stream",
     "text": [
      "('Tom', 'Bob', 'Kate')\n"
     ]
    }
   ],
   "source": [
    "users_list = [\"Tom\", \"Bob\", \"Kate\"]\n",
    "users_tuple = tuple(users_list)\n",
    "print(users_tuple)"
   ]
  },
  {
   "cell_type": "code",
   "execution_count": 5,
   "metadata": {},
   "outputs": [
    {
     "name": "stdout",
     "output_type": "stream",
     "text": [
      "Tom\n",
      "Sam\n",
      "Kate\n",
      "('Bob', 'Sam', 'Kate')\n"
     ]
    }
   ],
   "source": [
    "users = (\"Tom\", \"Bob\", \"Sam\", \"Kate\")\n",
    "print(users[0])\n",
    "print(users[2])\n",
    "print(users[-1])\n",
    "\n",
    "print(users[1:4])"
   ]
  },
  {
   "cell_type": "code",
   "execution_count": 6,
   "metadata": {},
   "outputs": [
    {
     "name": "stdout",
     "output_type": "stream",
     "text": [
      "('Tom', 'Bob', 'Sam', 'Kate')\n"
     ]
    }
   ],
   "source": [
    "print(users)"
   ]
  },
  {
   "cell_type": "code",
   "execution_count": 7,
   "metadata": {},
   "outputs": [
    {
     "ename": "TypeError",
     "evalue": "'tuple' object does not support item assignment",
     "output_type": "error",
     "traceback": [
      "\u001b[1;31m---------------------------------------------------------------------------\u001b[0m",
      "\u001b[1;31mTypeError\u001b[0m                                 Traceback (most recent call last)",
      "\u001b[1;32m<ipython-input-7-c0a3fabb5994>\u001b[0m in \u001b[0;36m<module>\u001b[1;34m\u001b[0m\n\u001b[1;32m----> 1\u001b[1;33m \u001b[0musers\u001b[0m\u001b[1;33m[\u001b[0m\u001b[1;36m1\u001b[0m\u001b[1;33m]\u001b[0m \u001b[1;33m=\u001b[0m \u001b[1;34m\"Tim\"\u001b[0m\u001b[1;33m\u001b[0m\u001b[1;33m\u001b[0m\u001b[0m\n\u001b[0m",
      "\u001b[1;31mTypeError\u001b[0m: 'tuple' object does not support item assignment"
     ]
    }
   ],
   "source": [
    "users[1] = \"Tim\""
   ]
  },
  {
   "cell_type": "code",
   "execution_count": 14,
   "metadata": {},
   "outputs": [
    {
     "name": "stdout",
     "output_type": "stream",
     "text": [
      "Tom\n",
      "22\n",
      "False\n"
     ]
    }
   ],
   "source": [
    "user = (\"Tom\", 22, False)\n",
    "user1 = (\"Sam\", 23, True)\n",
    "name, age, isMarried = user\n",
    "print(name)\n",
    "print(age)\n",
    "print(isMarried)"
   ]
  },
  {
   "cell_type": "code",
   "execution_count": 17,
   "metadata": {},
   "outputs": [
    {
     "name": "stdout",
     "output_type": "stream",
     "text": [
      "('Tom', 22, False)\n",
      "3\n",
      "Tom\n",
      "22\n",
      "False\n"
     ]
    }
   ],
   "source": [
    "def get_user():\n",
    "    name = \"Tom\"\n",
    "    age = 22\n",
    "    is_married = False\n",
    "    return name, age, isMarried\n",
    "\n",
    "user = get_user()\n",
    "print(user)\n",
    "print(len(user))\n",
    "print(user[0])\n",
    "print(user[1])\n",
    "print(user[2])\n"
   ]
  },
  {
   "cell_type": "code",
   "execution_count": 19,
   "metadata": {},
   "outputs": [
    {
     "name": "stdout",
     "output_type": "stream",
     "text": [
      "\n",
      "Country: Germany  population: 80.2\n",
      "City: Berlin population: 3.326\n",
      "City: Hamburg population: 1.718\n",
      "\n",
      "Country: France  population: 66\n",
      "City: Paris population: 2.2\n",
      "City: Marsel population: 1.6\n"
     ]
    }
   ],
   "source": [
    "countries = (\n",
    "    (\"Germany\", 80.2, ((\"Berlin\", 3.326), (\"Hamburg\", 1.718))),\n",
    "    (\"France\", 66, ((\"Paris\", 2.2), (\"Marsel\", 1.6)))\n",
    ")\n",
    "\n",
    "for country in countries:\n",
    "    countryName, countryPopulation, cities = country\n",
    "    print(\"\\nCountry: {}  population: {}\".format(countryName, countryPopulation))\n",
    "    for city in cities:\n",
    "        cityName, cityPopulation = city\n",
    "        print(\"City: {} population: {}\".format(cityName, cityPopulation))"
   ]
  },
  {
   "cell_type": "code",
   "execution_count": 22,
   "metadata": {},
   "outputs": [
    {
     "name": "stdout",
     "output_type": "stream",
     "text": [
      "{1: 'Tom', '2': True, 3: 100.6}\n"
     ]
    }
   ],
   "source": [
    "users = {1: \"Tom\", \"2\": True, 3: 100.6}\n",
    "print(users)"
   ]
  },
  {
   "cell_type": "code",
   "execution_count": 24,
   "metadata": {},
   "outputs": [],
   "source": [
    "elements = {\"Au\": \"Золото\", \"Fe\": \"Железо\", \"H\": \"Водород\", \"O\": \"Кислород\"}"
   ]
  },
  {
   "cell_type": "code",
   "execution_count": 25,
   "metadata": {},
   "outputs": [],
   "source": [
    "objects = {}\n",
    "objects = dict()"
   ]
  },
  {
   "cell_type": "code",
   "execution_count": 26,
   "metadata": {},
   "outputs": [
    {
     "name": "stdout",
     "output_type": "stream",
     "text": [
      "{'+111123455': 'Tom', '+384767557': 'Bob', '+958758767': 'Alice'}\n"
     ]
    }
   ],
   "source": [
    "users_list = [\n",
    "    [\"+111123455\", \"Tom\"],\n",
    "    [\"+384767557\", \"Bob\"],\n",
    "    [\"+958758767\", \"Alice\"]\n",
    "]\n",
    "users_dict = dict(users_list)\n",
    "print(users_dict)"
   ]
  },
  {
   "cell_type": "code",
   "execution_count": 27,
   "metadata": {},
   "outputs": [
    {
     "name": "stdout",
     "output_type": "stream",
     "text": [
      "{'+111123455': 'Tom', '+384767557': 'Bob', '+958758767': 'Alice'}\n"
     ]
    }
   ],
   "source": [
    "users_tuple = (\n",
    "    (\"+111123455\", \"Tom\"),\n",
    "    (\"+384767557\", \"Bob\"),\n",
    "    (\"+958758767\", \"Alice\")\n",
    ")\n",
    "users_dict = dict(users_tuple)\n",
    "print(users_dict)"
   ]
  },
  {
   "cell_type": "code",
   "execution_count": 29,
   "metadata": {},
   "outputs": [
    {
     "name": "stdout",
     "output_type": "stream",
     "text": [
      "Tom\n"
     ]
    }
   ],
   "source": [
    "print(users_dict[\"+111123455\"])"
   ]
  },
  {
   "cell_type": "code",
   "execution_count": 30,
   "metadata": {},
   "outputs": [
    {
     "name": "stdout",
     "output_type": "stream",
     "text": [
      "Bob Smith\n"
     ]
    }
   ],
   "source": [
    "users_dict[\"+958758767\"] = \"Bob Smith\"\n",
    "print(users_dict[\"+958758767\"])"
   ]
  },
  {
   "cell_type": "code",
   "execution_count": 31,
   "metadata": {},
   "outputs": [
    {
     "name": "stdout",
     "output_type": "stream",
     "text": [
      "Tom\n",
      "Bob Smith\n"
     ]
    }
   ],
   "source": [
    "users = {\n",
    "    \"+11111111\": \"Tom\",\n",
    "    \"+33333333\": \"Bob\",\n",
    "    \"+55555555\": \"Alice\"\n",
    "}\n",
    "\n",
    "print(users[\"+11111111\"]) \n",
    "\n",
    "users[\"+33333333\"] = \"Bob Smith\"\n",
    "print(users[\"+33333333\"])  "
   ]
  },
  {
   "cell_type": "code",
   "execution_count": 32,
   "metadata": {},
   "outputs": [],
   "source": [
    "users[\"+4444444\"] = \"Sam\""
   ]
  },
  {
   "cell_type": "code",
   "execution_count": 34,
   "metadata": {},
   "outputs": [
    {
     "name": "stdout",
     "output_type": "stream",
     "text": [
      "Sam\n"
     ]
    }
   ],
   "source": [
    "user = users[\"+4444444\"]\n",
    "print(user)"
   ]
  },
  {
   "cell_type": "code",
   "execution_count": 36,
   "metadata": {},
   "outputs": [
    {
     "ename": "KeyError",
     "evalue": "'+55555'",
     "output_type": "error",
     "traceback": [
      "\u001b[1;31m---------------------------------------------------------------------------\u001b[0m",
      "\u001b[1;31mKeyError\u001b[0m                                  Traceback (most recent call last)",
      "\u001b[1;32m<ipython-input-36-fc10888e4c29>\u001b[0m in \u001b[0;36m<module>\u001b[1;34m\u001b[0m\n\u001b[1;32m----> 1\u001b[1;33m \u001b[0muser\u001b[0m \u001b[1;33m=\u001b[0m \u001b[0musers\u001b[0m\u001b[1;33m[\u001b[0m\u001b[1;34m\"+55555\"\u001b[0m\u001b[1;33m]\u001b[0m\u001b[1;33m\u001b[0m\u001b[1;33m\u001b[0m\u001b[0m\n\u001b[0m",
      "\u001b[1;31mKeyError\u001b[0m: '+55555'"
     ]
    }
   ],
   "source": [
    "user = users[\"+55555\"]"
   ]
  },
  {
   "cell_type": "code",
   "execution_count": 38,
   "metadata": {},
   "outputs": [
    {
     "name": "stdout",
     "output_type": "stream",
     "text": [
      "Sam\n"
     ]
    }
   ],
   "source": [
    "key = \"+4444444\"\n",
    "if key in users:\n",
    "    user = users[key]\n",
    "    print(user)\n",
    "else:\n",
    "    print(\"Элемент не найден\")"
   ]
  },
  {
   "cell_type": "code",
   "execution_count": 40,
   "metadata": {},
   "outputs": [
    {
     "name": "stdout",
     "output_type": "stream",
     "text": [
      "Sam\n"
     ]
    }
   ],
   "source": [
    "print(users.get(key))"
   ]
  },
  {
   "cell_type": "code",
   "execution_count": 44,
   "metadata": {},
   "outputs": [
    {
     "name": "stdout",
     "output_type": "stream",
     "text": [
      "Unknown user\n"
     ]
    }
   ],
   "source": [
    "print(users.get(\"+7777777\", \"Unknown user\"))"
   ]
  },
  {
   "cell_type": "code",
   "execution_count": 45,
   "metadata": {},
   "outputs": [
    {
     "name": "stdout",
     "output_type": "stream",
     "text": [
      "None\n"
     ]
    }
   ],
   "source": [
    "print(users.get(\"+7777777\"))"
   ]
  },
  {
   "cell_type": "code",
   "execution_count": 48,
   "metadata": {},
   "outputs": [],
   "source": [
    "users = {\n",
    "    \"+11111111\": \"Tom\",\n",
    "    \"+33333333\": \"Bob\",\n",
    "    \"+55555555\": \"Alice\"\n",
    "}\n",
    "\n",
    "# del users[\"+55555555\"]\n",
    "# print(users)"
   ]
  },
  {
   "cell_type": "code",
   "execution_count": 49,
   "metadata": {},
   "outputs": [
    {
     "name": "stdout",
     "output_type": "stream",
     "text": [
      "Alice удалён\n"
     ]
    }
   ],
   "source": [
    "key = \"+55555555\"\n",
    "if key in users:\n",
    "    user = users[key]\n",
    "    del users[key]\n",
    "    print(user, \"удалён\")\n",
    "else:\n",
    "    print(\"Элемент не найден\")"
   ]
  },
  {
   "cell_type": "code",
   "execution_count": 54,
   "metadata": {},
   "outputs": [
    {
     "name": "stdout",
     "output_type": "stream",
     "text": [
      "Alice\n",
      "Unknown user\n"
     ]
    }
   ],
   "source": [
    "users = {\n",
    "    \"+11111111\": \"Tom\",\n",
    "    \"+33333333\": \"Bob\",\n",
    "    \"+55555555\": \"Alice\"\n",
    "}\n",
    "key = \"+55555555\"\n",
    "user = users.pop(key)\n",
    "print(user)\n",
    "\n",
    "user = users.pop(\"+4444444\", \"Unknown user\")\n",
    "print(user)"
   ]
  },
  {
   "cell_type": "code",
   "execution_count": 55,
   "metadata": {},
   "outputs": [],
   "source": [
    "users.clear()"
   ]
  },
  {
   "cell_type": "code",
   "execution_count": 56,
   "metadata": {},
   "outputs": [
    {
     "name": "stdout",
     "output_type": "stream",
     "text": [
      "{}\n"
     ]
    }
   ],
   "source": [
    "print(users)"
   ]
  },
  {
   "cell_type": "code",
   "execution_count": 58,
   "metadata": {},
   "outputs": [
    {
     "name": "stdout",
     "output_type": "stream",
     "text": [
      "{'+1111111': 'Tom', '+3333333': 'Bob', '+5555555': 'Alice'}\n"
     ]
    }
   ],
   "source": [
    "users = {\"+1111111\": \"Tom\", \"+3333333\": \"Bob\", \"+5555555\": \"Alice\"}\n",
    "users2 = users.copy()\n",
    "print(users2)"
   ]
  },
  {
   "cell_type": "code",
   "execution_count": 59,
   "metadata": {},
   "outputs": [
    {
     "name": "stdout",
     "output_type": "stream",
     "text": [
      "{'+1111111': 'Tom', '+3333333': 'Bob', '+5555555': 'Alice', '+2222222': 'Sam', '+6666666': 'Kate'}\n",
      "{'+2222222': 'Sam', '+6666666': 'Kate'}\n"
     ]
    }
   ],
   "source": [
    "users = {\"+1111111\": \"Tom\", \"+3333333\": \"Bob\", \"+5555555\": \"Alice\"}\n",
    "users2 = {\"+2222222\": \"Sam\",\"+6666666\": \"Kate\"}\n",
    "users.update(users2)\n",
    "print(users)\n",
    "print(users2)"
   ]
  },
  {
   "cell_type": "code",
   "execution_count": 60,
   "metadata": {},
   "outputs": [
    {
     "name": "stdout",
     "output_type": "stream",
     "text": [
      "+11111111  -  Tom\n",
      "+33333333  -  Bob\n",
      "+55555555  -  Alice\n"
     ]
    }
   ],
   "source": [
    "users = {\n",
    "    \"+11111111\": \"Tom\",\n",
    "    \"+33333333\": \"Bob\",\n",
    "    \"+55555555\": \"Alice\"\n",
    "}\n",
    "for key in users:\n",
    "    print(key, \" - \", users[key])"
   ]
  },
  {
   "cell_type": "code",
   "execution_count": 61,
   "metadata": {},
   "outputs": [
    {
     "name": "stdout",
     "output_type": "stream",
     "text": [
      "+11111111  -  Tom\n",
      "+33333333  -  Bob\n",
      "+55555555  -  Alice\n"
     ]
    }
   ],
   "source": [
    "for key, value in users.items():\n",
    "    print(key, \" - \", value)"
   ]
  },
  {
   "cell_type": "code",
   "execution_count": 62,
   "metadata": {},
   "outputs": [
    {
     "name": "stdout",
     "output_type": "stream",
     "text": [
      "+11111111\n",
      "+33333333\n",
      "+55555555\n"
     ]
    }
   ],
   "source": [
    "for key in users.keys():\n",
    "    print(key)"
   ]
  },
  {
   "cell_type": "code",
   "execution_count": 63,
   "metadata": {},
   "outputs": [
    {
     "name": "stdout",
     "output_type": "stream",
     "text": [
      "+11111111\n",
      "+33333333\n",
      "+55555555\n"
     ]
    }
   ],
   "source": [
    "for key in users:\n",
    "    print(key)"
   ]
  },
  {
   "cell_type": "code",
   "execution_count": 64,
   "metadata": {},
   "outputs": [
    {
     "name": "stdout",
     "output_type": "stream",
     "text": [
      "Tom\n",
      "Bob\n",
      "Alice\n"
     ]
    }
   ],
   "source": [
    "for value in users.values():\n",
    "    print(value)"
   ]
  },
  {
   "cell_type": "code",
   "execution_count": 65,
   "metadata": {},
   "outputs": [
    {
     "name": "stdout",
     "output_type": "stream",
     "text": [
      "{'Tom': {'phone': '+971478745', 'email': 'supertom@gmail.com'}, 'Bob': {'phone': '+876390444', 'email': 'bob@gmail.com', 'skype': 'bob123'}}\n"
     ]
    }
   ],
   "source": [
    "users = {\n",
    "    \"Tom\": {\n",
    "        \"phone\": \"+971478745\",\n",
    "        \"email\": \"tom12@gmail.com\"\n",
    "    },\n",
    "    \"Bob\": {\n",
    "        \"phone\": \"+876390444\",\n",
    "        \"email\": \"bob@gmail.com\",\n",
    "        \"skype\": \"bob123\"\n",
    "    }\n",
    "}\n",
    "old_email = users[\"Tom\"][\"email\"]\n",
    "users[\"Tom\"][\"email\"] = \"supertom@gmail.com\"\n",
    "\n",
    "print(users)"
   ]
  },
  {
   "cell_type": "code",
   "execution_count": 66,
   "metadata": {},
   "outputs": [
    {
     "name": "stdout",
     "output_type": "stream",
     "text": [
      "skype is not found\n"
     ]
    }
   ],
   "source": [
    "key = \"skype\"\n",
    "if key in users[\"Tom\"]:\n",
    "    print(users[\"Tom\"][\"skype\"])\n",
    "else:\n",
    "    print(\"skype is not found\")"
   ]
  },
  {
   "cell_type": "code",
   "execution_count": 67,
   "metadata": {},
   "outputs": [
    {
     "name": "stdout",
     "output_type": "stream",
     "text": [
      "{'Alice', 'Tom', 'Bob'}\n"
     ]
    }
   ],
   "source": [
    "users = {\"Tom\", \"Bob\", \"Alice\", \"Tom\"}\n",
    "print(users)"
   ]
  },
  {
   "cell_type": "code",
   "execution_count": 68,
   "metadata": {},
   "outputs": [],
   "source": [
    "users3 = set([\"Mike\", \"Bill\", \"Ted\"])\n",
    "users = set()"
   ]
  },
  {
   "cell_type": "code",
   "execution_count": 69,
   "metadata": {},
   "outputs": [
    {
     "name": "stdout",
     "output_type": "stream",
     "text": [
      "3\n"
     ]
    }
   ],
   "source": [
    "users = {\"Tom\",\"Bob\",\"Alice\"}\n",
    "print(len(users))"
   ]
  },
  {
   "cell_type": "code",
   "execution_count": 70,
   "metadata": {},
   "outputs": [
    {
     "name": "stdout",
     "output_type": "stream",
     "text": [
      "{'Sam'}\n"
     ]
    }
   ],
   "source": [
    "users = set()\n",
    "users.add(\"Sam\")\n",
    "print(users)"
   ]
  },
  {
   "cell_type": "code",
   "execution_count": 71,
   "metadata": {},
   "outputs": [
    {
     "name": "stdout",
     "output_type": "stream",
     "text": [
      "{'Andrey', 'Sam'}\n"
     ]
    }
   ],
   "source": [
    "users.add(\"Andrey\")\n",
    "print(users)"
   ]
  },
  {
   "cell_type": "code",
   "execution_count": 72,
   "metadata": {},
   "outputs": [
    {
     "name": "stdout",
     "output_type": "stream",
     "text": [
      "{'Alice', 'Bob'}\n"
     ]
    }
   ],
   "source": [
    "users = {\"Tom\",\"Bob\",\"Alice\"}\n",
    "\n",
    "user = \"Tom\"\n",
    "if user in users:\n",
    "    users.remove(user)\n",
    "print(users)"
   ]
  },
  {
   "cell_type": "code",
   "execution_count": 73,
   "metadata": {},
   "outputs": [],
   "source": [
    "user = \"Tim\"\n",
    "users.discard(user)"
   ]
  },
  {
   "cell_type": "code",
   "execution_count": 74,
   "metadata": {},
   "outputs": [
    {
     "name": "stdout",
     "output_type": "stream",
     "text": [
      "{'Alice', 'Bob'}\n"
     ]
    }
   ],
   "source": [
    "print(users)"
   ]
  },
  {
   "cell_type": "code",
   "execution_count": 75,
   "metadata": {},
   "outputs": [],
   "source": [
    "users.clear()"
   ]
  },
  {
   "cell_type": "code",
   "execution_count": 76,
   "metadata": {},
   "outputs": [
    {
     "name": "stdout",
     "output_type": "stream",
     "text": [
      "set()\n"
     ]
    }
   ],
   "source": [
    "print(users)"
   ]
  },
  {
   "cell_type": "code",
   "execution_count": 79,
   "metadata": {},
   "outputs": [
    {
     "name": "stdout",
     "output_type": "stream",
     "text": [
      "Alice\n",
      "Tom\n",
      "Bob\n"
     ]
    }
   ],
   "source": [
    "users = {\"Tom\",\"Bob\",\"Alice\"}\n",
    "\n",
    "for user in users:\n",
    "    print(user)"
   ]
  },
  {
   "cell_type": "code",
   "execution_count": 81,
   "metadata": {},
   "outputs": [
    {
     "name": "stdout",
     "output_type": "stream",
     "text": [
      "{'Alice', 'Tom', 'Bob'}\n"
     ]
    }
   ],
   "source": [
    "users = {\"Tom\",\"Bob\",\"Alice\"}\n",
    "users3 = users.copy()\n",
    "print(users3)"
   ]
  },
  {
   "cell_type": "code",
   "execution_count": 82,
   "metadata": {},
   "outputs": [
    {
     "name": "stdout",
     "output_type": "stream",
     "text": [
      "{'Alice', 'Sam', 'Bob', 'Kate', 'Tom'}\n"
     ]
    }
   ],
   "source": [
    "users = {\"Tom\",\"Bob\",\"Alice\"}\n",
    "users2 = {\"Sam\",\"Kate\", \"Bob\"}\n",
    "users3 = users.union(users2)\n",
    "print(users3)"
   ]
  },
  {
   "cell_type": "code",
   "execution_count": 83,
   "metadata": {},
   "outputs": [
    {
     "name": "stdout",
     "output_type": "stream",
     "text": [
      "{'Bob'}\n"
     ]
    }
   ],
   "source": [
    "users = {\"Tom\",\"Bob\",\"Alice\"}\n",
    "users2 = {\"Sam\",\"Kate\", \"Bob\"}\n",
    "\n",
    "users3 = users.intersection(users2)\n",
    "print(users3)"
   ]
  },
  {
   "cell_type": "code",
   "execution_count": 84,
   "metadata": {},
   "outputs": [
    {
     "name": "stdout",
     "output_type": "stream",
     "text": [
      "{'Bob'}\n"
     ]
    }
   ],
   "source": [
    "users = {\"Tom\",\"Bob\",\"Alice\"}\n",
    "users2 = {\"Sam\",\"Kate\", \"Bob\"}\n",
    "\n",
    "print(users & users2)"
   ]
  },
  {
   "cell_type": "code",
   "execution_count": 85,
   "metadata": {},
   "outputs": [
    {
     "name": "stdout",
     "output_type": "stream",
     "text": [
      "{'Alice', 'Tom'}\n"
     ]
    }
   ],
   "source": [
    "print(users.difference(users2))"
   ]
  },
  {
   "cell_type": "code",
   "execution_count": 86,
   "metadata": {},
   "outputs": [
    {
     "name": "stdout",
     "output_type": "stream",
     "text": [
      "{'Alice', 'Tom'}\n"
     ]
    }
   ],
   "source": [
    "print(users - users2)"
   ]
  },
  {
   "cell_type": "code",
   "execution_count": 87,
   "metadata": {},
   "outputs": [
    {
     "name": "stdout",
     "output_type": "stream",
     "text": [
      "True\n",
      "False\n"
     ]
    }
   ],
   "source": [
    "users = {\"Tom\", \"Bob\", \"Alice\"}\n",
    "superusers = {\"Sam\", \"Tom\", \"Bob\", \"Alice\", \"Greg\"}\n",
    "\n",
    "print(users.issubset(superusers))\n",
    "print(superusers.issubset(users))"
   ]
  },
  {
   "cell_type": "code",
   "execution_count": 88,
   "metadata": {},
   "outputs": [
    {
     "name": "stdout",
     "output_type": "stream",
     "text": [
      "False\n",
      "True\n"
     ]
    }
   ],
   "source": [
    "users = {\"Tom\", \"Bob\", \"Alice\"}\n",
    "superusers = {\"Sam\", \"Tom\", \"Bob\", \"Alice\", \"Greg\"}\n",
    "\n",
    "print(users.issuperset(superusers))\n",
    "print(superusers.issuperset(users))"
   ]
  },
  {
   "cell_type": "code",
   "execution_count": 89,
   "metadata": {},
   "outputs": [
    {
     "name": "stdout",
     "output_type": "stream",
     "text": [
      "frozenset({'Alice', 'Tom', 'Bob'})\n"
     ]
    }
   ],
   "source": [
    "users = frozenset({\"Tom\", \"Bob\", \"Alice\"})\n",
    "print(users)"
   ]
  },
  {
   "cell_type": "code",
   "execution_count": null,
   "metadata": {},
   "outputs": [],
   "source": []
  }
 ],
 "metadata": {
  "kernelspec": {
   "display_name": "Python 3",
   "language": "python",
   "name": "python3"
  },
  "language_info": {
   "codemirror_mode": {
    "name": "ipython",
    "version": 3
   },
   "file_extension": ".py",
   "mimetype": "text/x-python",
   "name": "python",
   "nbconvert_exporter": "python",
   "pygments_lexer": "ipython3",
   "version": "3.7.4"
  }
 },
 "nbformat": 4,
 "nbformat_minor": 4
}
